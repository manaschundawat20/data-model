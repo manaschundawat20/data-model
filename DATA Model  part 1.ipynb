{
 "cells": [
  {
   "cell_type": "code",
   "execution_count": 19,
   "id": "8c531cfa-4193-4d0b-9364-3be29b89f3e5",
   "metadata": {},
   "outputs": [],
   "source": [
    "import psycopg2\n",
    "import pandas as pd"
   ]
  },
  {
   "cell_type": "code",
   "execution_count": 6,
   "id": "6ae8d73d-f7eb-4d54-bb14-3fe24fa3c603",
   "metadata": {},
   "outputs": [],
   "source": [
    "# create a connection to database\n",
    "\n",
    "try:\n",
    "    conn = psycopg2.connect(\"host=127.0.0.1 dbname=postgres user=postgres password=manasraj_20\")\n",
    "except psycopg2.Error as e:\n",
    "    print(\"Error: could not make connect to postgres database\")\n",
    "    print(e)"
   ]
  },
  {
   "cell_type": "code",
   "execution_count": 7,
   "id": "65d51783-5e77-4164-b3c8-4c2aa07c1b32",
   "metadata": {},
   "outputs": [],
   "source": [
    "# use the connection to get a cursor that can be used to execute queries\n",
    "\n",
    "try:\n",
    "    cur = conn.cursor()\n",
    "except psycopg2.Error as e:\n",
    "    print(\"Error: could not get cursor to database\")\n",
    "    print(e)"
   ]
  },
  {
   "cell_type": "code",
   "execution_count": 8,
   "id": "74f7c75a-0289-4d71-9f69-740eaee17c1b",
   "metadata": {},
   "outputs": [],
   "source": [
    "# set automatic commit to be true so that each action is committed without having to call conn.commit() after each command\n",
    "\n",
    "conn.set_session(autocommit=True)"
   ]
  },
  {
   "cell_type": "code",
   "execution_count": 9,
   "id": "c924b0d3-ba44-4025-8621-6949ef0ebc70",
   "metadata": {},
   "outputs": [],
   "source": [
    "# create database to work in\n",
    "\n",
    "try:\n",
    "    cur.execute(\"create database myfirstdb\")\n",
    "except psycopg2.Error as e:\n",
    "    print(e)"
   ]
  },
  {
   "cell_type": "code",
   "execution_count": 10,
   "id": "590cac45-cafd-457c-b45c-32db2a0bd193",
   "metadata": {},
   "outputs": [],
   "source": [
    "# add the db name in connect statement. Let's close our connection to the default database, reconnect to Udacity db and get new cursor\n",
    "\n",
    "try:\n",
    "    conn.close()\n",
    "except psycopg2.Error as e:\n",
    "    print(e)\n",
    "\n",
    "try:\n",
    "    conn = psycopg2.connect(\"host=127.0.0.1 dbname=myfirstdb user=postgres password=manasraj_20\")\n",
    "except psycopg2.Error as e:\n",
    "    print(\"Error: Could not make connection to database\")\n",
    "    print(e)\n",
    "\n",
    "try:\n",
    "    cur = conn.cursor()\n",
    "except psycopg2.Error as e:\n",
    "    priint(\"Error: Could not get cursor to database\")\n",
    "    print(e)\n",
    "\n",
    "conn.set_session(autocommit=True)"
   ]
  },
  {
   "cell_type": "code",
   "execution_count": 12,
   "id": "d257537a-44bb-403f-ba04-4802012aeadc",
   "metadata": {},
   "outputs": [],
   "source": [
    "# create table for students\n",
    "# student_id\n",
    "# name\n",
    "# age\n",
    "# gender\n",
    "# subject\n",
    "# marks\n"
   ]
  },
  {
   "cell_type": "code",
   "execution_count": 13,
   "id": "4a7bdf45-423c-4c8d-9044-5ca45cb83e2a",
   "metadata": {},
   "outputs": [],
   "source": [
    "try:\n",
    "    cur.execute(\"CREATE TABLE IF NOT EXISTS students(student_id int, name varchar, \\\n",
    "    age int, gender varchar, subject varchar, marks int);\")\n",
    "except psycopg2.Error as e:\n",
    "    print(\"Error: Issue creating table\")\n",
    "    print (e) "
   ]
  },
  {
   "cell_type": "code",
   "execution_count": 14,
   "id": "69caaa67-43c5-4471-b11c-98248299c8a1",
   "metadata": {},
   "outputs": [],
   "source": [
    "# inserting two rows into table"
   ]
  },
  {
   "cell_type": "code",
   "execution_count": 15,
   "id": "85489dea-c649-4b10-bb5b-eb67024e5462",
   "metadata": {},
   "outputs": [],
   "source": [
    "try:\n",
    "    cur.execute(\"INSERT INTO students (student_id, name, age, gender, subject, marks) \\\n",
    "    VALUES (%s, %s, %s, %s, %s, %s)\", \\\n",
    "    (1, \"Raj\", 23, \"Male\", \"Python\", 85))\n",
    "except psycopg2.Error as e:\n",
    "    print(\"Error: Issue inserting rows\")\n",
    "    print(e)\n",
    "\n",
    "try:\n",
    "    cur.execute(\"INSERT INTO students (student_id, name, age, gender, subject, marks) \\\n",
    "    VALUES (%s, %s, %s, %s, %s, %s)\", \\\n",
    "    (2, \"Priya\", 22, \"Female\", \"Python\", 86))\n",
    "except psycopg2.Error as e:\n",
    "    print(\"Error: Issue inserting rows\")\n",
    "    print(e)\n"
   ]
  },
  {
   "cell_type": "code",
   "execution_count": 17,
   "id": "67ff565d-70e6-4bfd-8be2-97583f3e2f49",
   "metadata": {},
   "outputs": [
    {
     "name": "stdout",
     "output_type": "stream",
     "text": [
      "(1, 'Raj', 23, 'Male', 'Python', 85)\n",
      "(2, 'Priya', 22, 'Female', 'Python', 86)\n"
     ]
    }
   ],
   "source": [
    "# validate your data was inseted into table\n",
    "\n",
    "try:\n",
    "    cur.execute(\"SELECT * FROM students;\")\n",
    "except psycopg2.Error as e:\n",
    "    print(\"Error: select *\")\n",
    "    print(e)\n",
    "\n",
    "row = cur.fetchone()\n",
    "while row:\n",
    "    print(row)\n",
    "    row = cur.fetchone()"
   ]
  },
  {
   "cell_type": "code",
   "execution_count": 18,
   "id": "a025b705-1964-4cd4-83e0-046803366924",
   "metadata": {},
   "outputs": [],
   "source": [
    "# finally close your connection and cursor\n",
    "\n",
    "cur.close()\n",
    "conn.close()"
   ]
  },
  {
   "cell_type": "code",
   "execution_count": null,
   "id": "015779b1-42f0-4375-bfcc-3b94cc2d9df7",
   "metadata": {},
   "outputs": [],
   "source": []
  }
 ],
 "metadata": {
  "kernelspec": {
   "display_name": "Python 3 (ipykernel)",
   "language": "python",
   "name": "python3"
  },
  "language_info": {
   "codemirror_mode": {
    "name": "ipython",
    "version": 3
   },
   "file_extension": ".py",
   "mimetype": "text/x-python",
   "name": "python",
   "nbconvert_exporter": "python",
   "pygments_lexer": "ipython3",
   "version": "3.10.12"
  }
 },
 "nbformat": 4,
 "nbformat_minor": 5
}
